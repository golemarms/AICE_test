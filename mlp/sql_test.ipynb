{
 "cells": [
  {
   "cell_type": "code",
   "execution_count": 33,
   "metadata": {},
   "outputs": [],
   "source": [
    "import pandas as pd\n",
    "import pyodbc\n",
    "import yaml\n",
    "\n",
    "## Load config file\n",
    "\n",
    "with open(\"config.yaml\", \"r\") as f:\n",
    "    config = yaml.load(f, yaml.FullLoader)\n",
    "\n",
    "## Organize details in dictionary\n",
    "\n",
    "connect_dict = config[\"Connection details\"]\n",
    "\n",
    "assert len(pyodbc.drivers()) > 0, \"Please install an ODBC driver\"\n",
    "connect_dict['DRIVER'] = pyodbc.drivers()[-1]\n",
    "\n",
    "## Make connection string\n",
    "\n",
    "conn_string = \";\".join([f\"{key}={value}\" for key, value in connect_dict.items()])\n",
    "\n",
    "## Connect to database\n",
    "\n",
    "connection = pyodbc.connect(conn_string)\n",
    "\n",
    "## Instruction was given to write and SQL query to extract:\n",
    "# data between dates 2011 and 2012\n",
    "# all columns EXCEPT guest-bike and registered-bike\n",
    "\n",
    "col_names_substring = \",\".join(config['Columns to extract'])\n",
    "date_limits = config['Date limits']\n",
    "query_string =  f\"SELECT {col_names_substring} FROM rental_data WHERE date BETWEEN '{date_limits['first']}' and '{date_limits['last']}'\"\n",
    "\n",
    "df = pd.read_sql(sql = query_string,\n",
    "                 con = connection,\n",
    "                 parse_dates = \"date\")\\\n",
    "       .sort_values([\"date\", \"hr\"])\\\n",
    "       .assign(weather=lambda x: x.weather.str.lower())"
   ]
  }
 ],
 "metadata": {
  "kernelspec": {
   "display_name": "Python 3",
   "language": "python",
   "name": "python3"
  },
  "language_info": {
   "codemirror_mode": {
    "name": "ipython",
    "version": 3
   },
   "file_extension": ".py",
   "mimetype": "text/x-python",
   "name": "python",
   "nbconvert_exporter": "python",
   "pygments_lexer": "ipython3",
   "version": "3.8.2"
  }
 },
 "nbformat": 4,
 "nbformat_minor": 2
}